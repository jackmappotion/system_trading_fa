{
 "cells": [
  {
   "cell_type": "code",
   "execution_count": null,
   "metadata": {},
   "outputs": [],
   "source": [
    "from fa_tools.v1.preproc import FundamentalPreProc\n",
    "from fa_tools.v1.proc import FaProc, FaController"
   ]
  },
  {
   "cell_type": "code",
   "execution_count": null,
   "metadata": {},
   "outputs": [],
   "source": [
    "raw_fundamental = open(\"fundamental\")\n",
    "fundamental_preproc = FundamentalPreProc(raw_fundamental)\n",
    "fundamental = fundamental_preproc()"
   ]
  },
  {
   "cell_type": "code",
   "execution_count": null,
   "metadata": {},
   "outputs": [],
   "source": [
    "fa_proc = FaProc(fundamental)\n",
    "fundamental_analysis = fa_proc()"
   ]
  },
  {
   "cell_type": "code",
   "execution_count": null,
   "metadata": {},
   "outputs": [],
   "source": [
    "fa_controller = FaController(fundamental_analysis)"
   ]
  },
  {
   "cell_type": "code",
   "execution_count": null,
   "metadata": {},
   "outputs": [],
   "source": [
    "conditions = [(\"arg\", \"condition\")]\n",
    "\n",
    "filtered_stocks = fa_controller.get_filtered_stocks(conditions)"
   ]
  }
 ],
 "metadata": {
  "language_info": {
   "name": "python"
  }
 },
 "nbformat": 4,
 "nbformat_minor": 2
}
