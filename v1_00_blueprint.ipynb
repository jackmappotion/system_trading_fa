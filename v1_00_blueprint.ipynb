{
 "cells": [
  {
   "cell_type": "code",
   "execution_count": null,
   "metadata": {},
   "outputs": [],
   "source": [
    "from fa_tools import FactorAnalysisGenrator, FactorAnalysisController"
   ]
  },
  {
   "cell_type": "code",
   "execution_count": null,
   "metadata": {},
   "outputs": [],
   "source": [
    "fundamental = open(\"fundamental\")\n",
    "\n",
    "fundamental_factor_df = FactorAnalysisGenrator(fundamental)\n",
    "\n",
    "fa_controller = FactorAnalysisController(fundamental_factor_df)\n",
    "\n",
    "factors_conditions = [\n",
    "    (\n",
    "        \"net_profit\",\n",
    "        lambda x: 0 < x,\n",
    "    ),\n",
    "    (\n",
    "        \"TotalDebtRatio\",\n",
    "        lambda x: x < 0.7,\n",
    "    ),\n",
    "]\n",
    "\n",
    "filtered_stocks = fa_controller.filtered_stocks(factors_conditions)\n",
    "filtered_stocks"
   ]
  }
 ],
 "metadata": {
  "language_info": {
   "name": "python"
  }
 },
 "nbformat": 4,
 "nbformat_minor": 2
}
