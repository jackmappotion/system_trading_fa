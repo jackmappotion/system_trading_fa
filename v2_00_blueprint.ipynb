{
 "cells": [
  {
   "cell_type": "code",
   "execution_count": null,
   "metadata": {},
   "outputs": [],
   "source": [
    "from fa_tools.v2.preproc import FundamentalPreProc, OhlcvPreProc, InfoPreProc\n",
    "from fa_tools.v2.preproc import FaPreProc\n",
    "\n",
    "from fa_tools.v2.proc import FaProc"
   ]
  },
  {
   "cell_type": "code",
   "execution_count": null,
   "metadata": {},
   "outputs": [],
   "source": [
    "raw_fundamental = \"\"\n",
    "raw_ohlcv = \"\"\n",
    "raw_info = \"\""
   ]
  },
  {
   "cell_type": "code",
   "execution_count": null,
   "metadata": {},
   "outputs": [],
   "source": [
    "fundamental_preproc = FundamentalPreProc(raw_fundamental)\n",
    "preproc_fundamental = fundamental_preproc()\n",
    "\n",
    "\n",
    "ohlcv_preproc = OhlcvPreProc(raw_ohlcv)\n",
    "preproc_ohlcv = ohlcv_preproc()\n",
    "\n",
    "\n",
    "info_preproc = InfoPreProc(raw_info)\n",
    "preproc_info = info_preproc()"
   ]
  },
  {
   "cell_type": "code",
   "execution_count": null,
   "metadata": {},
   "outputs": [],
   "source": [
    "fa_preproc = FaPreProc(preproc_fundamental, preproc_ohlcv, preproc_info)\n",
    "fundamental = fa_preproc()\n"
   ]
  },
  {
   "cell_type": "code",
   "execution_count": null,
   "metadata": {},
   "outputs": [],
   "source": [
    "fa_proc = FaProc(fundamental)\n",
    "\n",
    "\n",
    "fundamental_0 = fa_proc(\"0\")\n",
    "fundamental_1 = fa_proc(\"1\")\n",
    "fundamental_2 = fa_proc(\"2\")"
   ]
  }
 ],
 "metadata": {
  "language_info": {
   "name": "python"
  }
 },
 "nbformat": 4,
 "nbformat_minor": 2
}
