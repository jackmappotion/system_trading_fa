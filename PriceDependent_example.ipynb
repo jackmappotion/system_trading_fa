{
 "cells": [
  {
   "cell_type": "code",
   "execution_count": 1,
   "metadata": {},
   "outputs": [],
   "source": [
    "import datetime as dt\n",
    "import pandas as pd"
   ]
  },
  {
   "cell_type": "code",
   "execution_count": 2,
   "metadata": {},
   "outputs": [],
   "source": [
    "from fa_tools.PriceDependent import FundamentalPreProc\n",
    "\n",
    "raw_fundamental = pd.read_csv(\"./data/cfs_fundamental.csv\", index_col=0)\n",
    "\n",
    "fundamental_preproc = FundamentalPreProc(raw_fundamental)\n",
    "preproc_fundamental = fundamental_preproc()"
   ]
  },
  {
   "cell_type": "code",
   "execution_count": 3,
   "metadata": {},
   "outputs": [],
   "source": [
    "from fa_tools.PriceDependent import OhlcvPreProc\n",
    "\n",
    "raw_ohlcv = pd.read_csv(\"./data/ohlcv.csv\", index_col=0, low_memory=False)\n",
    "ohlcv_preproc = OhlcvPreProc(raw_ohlcv.rename(columns={\"Close\": \"close\"}))\n",
    "prices = ohlcv_preproc.get_ma_prices(window=32)"
   ]
  },
  {
   "cell_type": "code",
   "execution_count": 4,
   "metadata": {},
   "outputs": [],
   "source": [
    "from fa_tools.PriceDependent import StockPreProc\n",
    "\n",
    "raw_stock = pd.read_csv(\"./data/krx_stocks.csv\", index_col=0)\n",
    "stock_preproc = StockPreProc(raw_stock.rename(columns={\"Code\": \"stock_code\", \"Stocks\": \"shares\"}))\n",
    "shares = stock_preproc.get_shares()"
   ]
  },
  {
   "cell_type": "code",
   "execution_count": 5,
   "metadata": {},
   "outputs": [],
   "source": [
    "from fa_tools.PriceDependent import FaPreProc\n",
    "\n",
    "fundamental = FaPreProc(preproc_fundamental, prices, shares)()"
   ]
  },
  {
   "cell_type": "code",
   "execution_count": 6,
   "metadata": {},
   "outputs": [],
   "source": [
    "from fa_tools.PriceDependent import FundamentalProc\n",
    "fa_proc = FundamentalProc(fundamental)\n",
    "\n",
    "fa_0 = fa_proc(\"0\")\n",
    "fa_1 = fa_proc(\"1\")\n",
    "fa_2 = fa_proc(\"2\")"
   ]
  },
  {
   "cell_type": "code",
   "execution_count": 7,
   "metadata": {},
   "outputs": [],
   "source": [
    "tpbr_df = pd.concat(\n",
    "    [\n",
    "        fa_0[\"TPBR\"].rename(\"recent_1\"),\n",
    "        fa_1[\"TPBR\"].rename(\"recent_2\"),\n",
    "        fa_2[\"TPBR\"].rename(\"recent_3\"),\n",
    "    ],\n",
    "    axis=1,\n",
    ")\n",
    "\n",
    "# TPBR이 감소 한다는 것은 기대치가 낮아지고 있다는 것\n",
    "_stock_codes_1 = tpbr_df[\n",
    "    (tpbr_df[\"recent_1\"] < tpbr_df[\"recent_2\"]) & (tpbr_df[\"recent_2\"] < tpbr_df[\"recent_3\"])\n",
    "].index"
   ]
  },
  {
   "cell_type": "code",
   "execution_count": 8,
   "metadata": {},
   "outputs": [],
   "source": [
    "net_profit_df = pd.concat(\n",
    "    [\n",
    "        fa_0[\"net_profit\"].rename(\"recent_1\"),\n",
    "        fa_1[\"net_profit\"].rename(\"recent_2\"),\n",
    "        fa_2[\"net_profit\"].rename(\"recent_3\"),\n",
    "    ],\n",
    "    axis=1,\n",
    ")\n",
    "\n",
    "# 매년 당기순이익이 증가\n",
    "_stock_codes_2 = net_profit_df[\n",
    "    (net_profit_df[\"recent_3\"] < net_profit_df[\"recent_2\"])\n",
    "    & (net_profit_df[\"recent_2\"] < net_profit_df[\"recent_1\"])\n",
    "].index"
   ]
  },
  {
   "cell_type": "code",
   "execution_count": 9,
   "metadata": {},
   "outputs": [
    {
     "data": {
      "text/plain": [
       "251"
      ]
     },
     "execution_count": 9,
     "metadata": {},
     "output_type": "execute_result"
    }
   ],
   "source": [
    "filtered_stocks = set(_stock_codes_1) & set(_stock_codes_2)\n",
    "len(filtered_stocks)"
   ]
  },
  {
   "cell_type": "code",
   "execution_count": 10,
   "metadata": {},
   "outputs": [],
   "source": [
    "corp_info = pd.read_csv(\"./data/corp_info_df.csv\", index_col=0)\n",
    "corp_info[\"stock_code\"] = corp_info[\"stock_code\"].apply(lambda x: str(x).zfill(6))"
   ]
  },
  {
   "cell_type": "code",
   "execution_count": 11,
   "metadata": {},
   "outputs": [
    {
     "data": {
      "text/html": [
       "<div>\n",
       "<style scoped>\n",
       "    .dataframe tbody tr th:only-of-type {\n",
       "        vertical-align: middle;\n",
       "    }\n",
       "\n",
       "    .dataframe tbody tr th {\n",
       "        vertical-align: top;\n",
       "    }\n",
       "\n",
       "    .dataframe thead th {\n",
       "        text-align: right;\n",
       "    }\n",
       "</style>\n",
       "<table border=\"1\" class=\"dataframe\">\n",
       "  <thead>\n",
       "    <tr style=\"text-align: right;\">\n",
       "      <th></th>\n",
       "      <th>stock_code</th>\n",
       "      <th>corp_name</th>\n",
       "      <th>sector</th>\n",
       "      <th>product</th>\n",
       "    </tr>\n",
       "  </thead>\n",
       "  <tbody>\n",
       "    <tr>\n",
       "      <th>14511</th>\n",
       "      <td>950130</td>\n",
       "      <td>엑세스바이오</td>\n",
       "      <td>의료용품 및 기타 의약 관련제품 제조업</td>\n",
       "      <td>말라리아 진단키트(RDT), HIV 진단키트(RDT)</td>\n",
       "    </tr>\n",
       "    <tr>\n",
       "      <th>53207</th>\n",
       "      <td>150900</td>\n",
       "      <td>파수</td>\n",
       "      <td>소프트웨어 개발 및 공급업</td>\n",
       "      <td>기업용 문서보안 솔루션</td>\n",
       "    </tr>\n",
       "    <tr>\n",
       "      <th>53263</th>\n",
       "      <td>005710</td>\n",
       "      <td>대원산업</td>\n",
       "      <td>자동차 신품 부품 제조업</td>\n",
       "      <td>자동차시트</td>\n",
       "    </tr>\n",
       "    <tr>\n",
       "      <th>53508</th>\n",
       "      <td>001820</td>\n",
       "      <td>삼화콘덴서공업</td>\n",
       "      <td>전자부품 제조업</td>\n",
       "      <td>콘덴서(축전기) 제조</td>\n",
       "    </tr>\n",
       "    <tr>\n",
       "      <th>53789</th>\n",
       "      <td>023600</td>\n",
       "      <td>삼보판지</td>\n",
       "      <td>펄프, 종이 및 판지 제조업</td>\n",
       "      <td>골판지,골판지상자</td>\n",
       "    </tr>\n",
       "    <tr>\n",
       "      <th>...</th>\n",
       "      <td>...</td>\n",
       "      <td>...</td>\n",
       "      <td>...</td>\n",
       "      <td>...</td>\n",
       "    </tr>\n",
       "    <tr>\n",
       "      <th>103578</th>\n",
       "      <td>049550</td>\n",
       "      <td>잉크테크</td>\n",
       "      <td>기타 화학제품 제조업</td>\n",
       "      <td>잉크젯프린터용 잉크카트리지, 재충전 잉크</td>\n",
       "    </tr>\n",
       "    <tr>\n",
       "      <th>103602</th>\n",
       "      <td>014440</td>\n",
       "      <td>영보화학</td>\n",
       "      <td>플라스틱제품 제조업</td>\n",
       "      <td>가교발포폴리에틸렌(아티론,영보드) 제조,판매</td>\n",
       "    </tr>\n",
       "    <tr>\n",
       "      <th>103710</th>\n",
       "      <td>136410</td>\n",
       "      <td>아셈스</td>\n",
       "      <td>플라스틱제품 제조업</td>\n",
       "      <td>핫멜트 접착 필름</td>\n",
       "    </tr>\n",
       "    <tr>\n",
       "      <th>103715</th>\n",
       "      <td>348350</td>\n",
       "      <td>위드텍</td>\n",
       "      <td>측정, 시험, 항해, 제어 및 기타 정밀기기 제조업; 광학기기 제외</td>\n",
       "      <td>AMCs 모니터링 시스템, 공정 프로세스 모니터링 시스템, TMS</td>\n",
       "    </tr>\n",
       "    <tr>\n",
       "      <th>103964</th>\n",
       "      <td>047040</td>\n",
       "      <td>대우건설</td>\n",
       "      <td>건물 건설업</td>\n",
       "      <td>아파트건설,토목공사,건축공사,포장공사,전기공사,무역/중장비 대여</td>\n",
       "    </tr>\n",
       "  </tbody>\n",
       "</table>\n",
       "<p>251 rows × 4 columns</p>\n",
       "</div>"
      ],
      "text/plain": [
       "       stock_code corp_name                                 sector  \\\n",
       "14511      950130    엑세스바이오                  의료용품 및 기타 의약 관련제품 제조업   \n",
       "53207      150900        파수                         소프트웨어 개발 및 공급업   \n",
       "53263      005710      대원산업                          자동차 신품 부품 제조업   \n",
       "53508      001820   삼화콘덴서공업                               전자부품 제조업   \n",
       "53789      023600      삼보판지                        펄프, 종이 및 판지 제조업   \n",
       "...           ...       ...                                    ...   \n",
       "103578     049550      잉크테크                            기타 화학제품 제조업   \n",
       "103602     014440      영보화학                             플라스틱제품 제조업   \n",
       "103710     136410       아셈스                             플라스틱제품 제조업   \n",
       "103715     348350       위드텍  측정, 시험, 항해, 제어 및 기타 정밀기기 제조업; 광학기기 제외   \n",
       "103964     047040      대우건설                                 건물 건설업   \n",
       "\n",
       "                                     product  \n",
       "14511          말라리아 진단키트(RDT), HIV 진단키트(RDT)  \n",
       "53207                           기업용 문서보안 솔루션  \n",
       "53263                                  자동차시트  \n",
       "53508                            콘덴서(축전기) 제조  \n",
       "53789                              골판지,골판지상자  \n",
       "...                                      ...  \n",
       "103578                잉크젯프린터용 잉크카트리지, 재충전 잉크  \n",
       "103602              가교발포폴리에틸렌(아티론,영보드) 제조,판매  \n",
       "103710                             핫멜트 접착 필름  \n",
       "103715  AMCs 모니터링 시스템, 공정 프로세스 모니터링 시스템, TMS  \n",
       "103964   아파트건설,토목공사,건축공사,포장공사,전기공사,무역/중장비 대여  \n",
       "\n",
       "[251 rows x 4 columns]"
      ]
     },
     "execution_count": 11,
     "metadata": {},
     "output_type": "execute_result"
    }
   ],
   "source": [
    "corp_info[corp_info[\"stock_code\"].isin(filtered_stocks)]"
   ]
  }
 ],
 "metadata": {
  "kernelspec": {
   "display_name": "quant_trading",
   "language": "python",
   "name": "python3"
  },
  "language_info": {
   "codemirror_mode": {
    "name": "ipython",
    "version": 3
   },
   "file_extension": ".py",
   "mimetype": "text/x-python",
   "name": "python",
   "nbconvert_exporter": "python",
   "pygments_lexer": "ipython3",
   "version": "3.10.13"
  }
 },
 "nbformat": 4,
 "nbformat_minor": 2
}
